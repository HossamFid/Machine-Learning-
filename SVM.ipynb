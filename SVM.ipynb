{
 "cells": [
  {
   "cell_type": "code",
   "execution_count": 3,
   "metadata": {},
   "outputs": [
    {
     "name": "stderr",
     "output_type": "stream",
     "text": [
      "c:\\users\\code\\appdata\\local\\programs\\python\\python38\\lib\\site-packages\\sklearn\\utils\\deprecation.py:143: FutureWarning: The sklearn.datasets.samples_generator module is  deprecated in version 0.22 and will be removed in version 0.24. The corresponding classes / functions should instead be imported from sklearn.datasets. Anything that cannot be imported from sklearn.datasets is now part of the private API.\n",
      "  warnings.warn(message, FutureWarning)\n"
     ]
    }
   ],
   "source": [
    "import numpy as np \n",
    "import pandas as pd \n",
    "import matplotlib.pyplot as plt \n",
    "from sklearn.svm import SVC \n",
    "from sklearn.datasets.samples_generator import make_blobs\n",
    "# Generate isotropic Gaussian blobs for clustering.\n"
   ]
  },
  {
   "cell_type": "code",
   "execution_count": 4,
   "metadata": {},
   "outputs": [],
   "source": [
    "X,y = make_blobs(n_samples = 40 , centers = 2 , random_state = 20)"
   ]
  },
  {
   "cell_type": "code",
   "execution_count": 8,
   "metadata": {},
   "outputs": [
    {
     "data": {
      "text/plain": [
       "array([[ 1.71842122,  9.52190711],\n",
       "       [ 9.13204399,  5.32194764],\n",
       "       [ 8.68770841,  7.79789319],\n",
       "       [ 2.8137247 ,  8.36064298],\n",
       "       [ 7.27542879,  6.31825811],\n",
       "       [ 0.48311336,  8.19998973],\n",
       "       [ 7.9294032 ,  6.08842852],\n",
       "       [ 2.69548237, 10.01411256],\n",
       "       [ 2.26571286,  8.36068903],\n",
       "       [ 0.82767806,  6.34128434],\n",
       "       [ 0.87712287,  6.84969507],\n",
       "       [ 6.86839861,  5.83429863],\n",
       "       [ 0.97059923,  7.11190662],\n",
       "       [ 2.12015254,  5.61101265],\n",
       "       [ 2.88274828,  9.28705277],\n",
       "       [ 8.47704476,  6.80415251],\n",
       "       [ 7.61095347,  7.8201477 ],\n",
       "       [ 1.65359865,  9.510461  ],\n",
       "       [ 2.08607703,  7.46086368],\n",
       "       [ 9.92527993,  6.67617854],\n",
       "       [ 2.09222936,  6.81774802],\n",
       "       [ 1.59396992,  4.76457177],\n",
       "       [ 0.67778343,  8.51397085],\n",
       "       [ 7.86880706,  7.3062361 ],\n",
       "       [ 8.32405183,  3.6123843 ],\n",
       "       [ 8.35834306,  6.47258777],\n",
       "       [ 2.28968574,  6.40317382],\n",
       "       [ 6.34822954,  5.46058533],\n",
       "       [ 7.22830657,  7.86147791],\n",
       "       [ 8.47764867,  6.90996676],\n",
       "       [ 1.89139437,  5.88732584],\n",
       "       [ 8.26863909,  7.67453856],\n",
       "       [ 1.42412542,  8.27524534],\n",
       "       [ 2.70208537,  6.97579352],\n",
       "       [ 8.52161671,  4.83102994],\n",
       "       [ 7.00192182,  6.43079715],\n",
       "       [ 9.03512586,  7.66854573],\n",
       "       [ 1.51927726,  7.82424385],\n",
       "       [ 6.9758391 ,  5.80360444],\n",
       "       [ 7.59114483,  6.77649377]])"
      ]
     },
     "execution_count": 8,
     "metadata": {},
     "output_type": "execute_result"
    }
   ],
   "source": [
    "X"
   ]
  },
  {
   "cell_type": "code",
   "execution_count": 6,
   "metadata": {},
   "outputs": [
    {
     "data": {
      "text/plain": [
       "array([0, 1, 1, 0, 1, 0, 1, 0, 0, 0, 0, 1, 0, 0, 0, 1, 1, 0, 0, 1, 0, 0,\n",
       "       0, 1, 1, 1, 0, 1, 1, 1, 0, 1, 0, 0, 1, 1, 1, 0, 1, 1])"
      ]
     },
     "execution_count": 6,
     "metadata": {},
     "output_type": "execute_result"
    }
   ],
   "source": [
    "y"
   ]
  },
  {
   "cell_type": "code",
   "execution_count": 12,
   "metadata": {},
   "outputs": [
    {
     "data": {
      "text/plain": [
       "<matplotlib.collections.PathCollection at 0x18972de39d0>"
      ]
     },
     "execution_count": 12,
     "metadata": {},
     "output_type": "execute_result"
    },
    {
     "data": {
      "image/png": "[encoded data removed]",
      "text/plain": [
       "<Figure size 432x288 with 1 Axes>"
      ]
     },
     "metadata": {
      "needs_background": "light"
     },
     "output_type": "display_data"
    }
   ],
   "source": [
    "# display the data \n",
    "plt.scatter(X[:,0],X[:,1], c='red' , s= 40 ,cmap = plt.cm.Paired)\n",
    "\n",
    "# color - size - colorMap"
   ]
  },
  {
   "cell_type": "code",
   "execution_count": 13,
   "metadata": {},
   "outputs": [
    {
     "data": {
      "text/plain": [
       "SVC(C=1, kernel='linear')"
      ]
     },
     "execution_count": 13,
     "metadata": {},
     "output_type": "execute_result"
    }
   ],
   "source": [
    "# create SVM model \n",
    "\n",
    "svmm = SVC(kernel = 'linear', C = 1)\n",
    "# kernel{‘linear’, ‘poly’, ‘rbf’, ‘sigmoid’, ‘precomputed’}, default=’rbf’\n",
    "\n",
    "# fit the model \n",
    "svmm.fit(X,y)"
   ]
  },
  {
   "cell_type": "code",
   "execution_count": 29,
   "metadata": {},
   "outputs": [
    {
     "data": {
      "text/plain": [
       "<matplotlib.collections.PathCollection at 0x1897cbbd2e0>"
      ]
     },
     "execution_count": 29,
     "metadata": {},
     "output_type": "execute_result"
    },
    {
     "data": {
      "image/png": "[encoded data removed]",
      "text/plain": [
       "<Figure size 432x288 with 1 Axes>"
      ]
     },
     "metadata": {
      "needs_background": "light"
     },
     "output_type": "display_data"
    }
   ],
   "source": [
    "# create a model with C= 1000\n",
    "\n",
    "svmc = SVC(kernel = 'linear' , C = 1000)\n",
    "svmc.fit(X,y)  # fit \n",
    "\n",
    "# display the data \n",
    "plt.scatter(X[:,0],X[:,1], c=y , s= 40 ,cmap = plt.cm.Paired)\n",
    "\n",
    "\n",
    "# plot tthe decision function \n",
    "\n",
    "ax = plt.gca()   # Get the current axes, creating one if necessary.\n",
    "xlim = ax.get_xlim()  # Get or set the x limits of the current axes.\n",
    "ylim = ax.get_ylim()\n",
    "\n",
    "# create grid to evaluate model \n",
    "xx = np.linspace(xlim[0], xlim[1], num=30)  #start , stop , num \n",
    "yy = np.linspace(ylim[0], ylim[1], num=30) \n",
    "\n",
    "XX,YY = np.meshgrid(xx,yy) # Return coordinate matrices from coordinate vectors.\n",
    "xy = np.vstack([XX.ravel(), YY.ravel()]).T   # Stack arrays in sequence vertically (row wise).\n",
    "\n",
    "# ravel : Return a contiguous flattened array.\n",
    "\n",
    "\n",
    "Z = svmc.decision_function(xy).reshape(XX.shape)\n",
    "\n",
    "#plot decision boundary and margins\n",
    "ax.contour(XX,YY,Z,colors='k',levels=[-1,0,1],alpha=0.5,linestyles=['--','-','--'])\n",
    "#plot support vectors\n",
    "ax.scatter(svmc.support_vectors_[:,0],svmc.support_vectors_[:,1],s=100,linewidth=1,facecolors='none')\n",
    "\n"
   ]
  },
  {
   "cell_type": "code",
   "execution_count": 22,
   "metadata": {},
   "outputs": [
    {
     "data": {
      "text/plain": [
       "(0.011005031489794481, 10.397388255961692)"
      ]
     },
     "execution_count": 22,
     "metadata": {},
     "output_type": "execute_result"
    }
   ],
   "source": [
    "xlim"
   ]
  },
  {
   "cell_type": "code",
   "execution_count": 20,
   "metadata": {},
   "outputs": [
    {
     "data": {
      "text/plain": [
       "(3.292297885573241, 10.33419897277097)"
      ]
     },
     "execution_count": 20,
     "metadata": {},
     "output_type": "execute_result"
    }
   ],
   "source": [
    "ylim"
   ]
  },
  {
   "cell_type": "code",
   "execution_count": 24,
   "metadata": {},
   "outputs": [
    {
     "data": {
      "text/plain": [
       "array([[ 0.01100503,  0.36915618,  0.72730732,  1.08545847,  1.44360961,\n",
       "         1.80176076,  2.15991191,  2.51806305,  2.8762142 ,  3.23436534,\n",
       "         3.59251649,  3.95066763,  4.30881878,  4.66696993,  5.02512107,\n",
       "         5.38327222,  5.74142336,  6.09957451,  6.45772565,  6.8158768 ,\n",
       "         7.17402794,  7.53217909,  7.89033024,  8.24848138,  8.60663253,\n",
       "         8.96478367,  9.32293482,  9.68108596, 10.03923711, 10.39738826],\n",
       "       [ 0.01100503,  0.36915618,  0.72730732,  1.08545847,  1.44360961,\n",
       "         1.80176076,  2.15991191,  2.51806305,  2.8762142 ,  3.23436534,\n",
       "         3.59251649,  3.95066763,  4.30881878,  4.66696993,  5.02512107,\n",
       "         5.38327222,  5.74142336,  6.09957451,  6.45772565,  6.8158768 ,\n",
       "         7.17402794,  7.53217909,  7.89033024,  8.24848138,  8.60663253,\n",
       "         8.96478367,  9.32293482,  9.68108596, 10.03923711, 10.39738826],\n",
       "       [ 0.01100503,  0.36915618,  0.72730732,  1.08545847,  1.44360961,\n",
       "         1.80176076,  2.15991191,  2.51806305,  2.8762142 ,  3.23436534,\n",
       "         3.59251649,  3.95066763,  4.30881878,  4.66696993,  5.02512107,\n",
       "         5.38327222,  5.74142336,  6.09957451,  6.45772565,  6.8158768 ,\n",
       "         7.17402794,  7.53217909,  7.89033024,  8.24848138,  8.60663253,\n",
       "         8.96478367,  9.32293482,  9.68108596, 10.03923711, 10.39738826],\n",
       "       [ 0.01100503,  0.36915618,  0.72730732,  1.08545847,  1.44360961,\n",
       "         1.80176076,  2.15991191,  2.51806305,  2.8762142 ,  3.23436534,\n",
       "         3.59251649,  3.95066763,  4.30881878,  4.66696993,  5.02512107,\n",
       "         5.38327222,  5.74142336,  6.09957451,  6.45772565,  6.8158768 ,\n",
       "         7.17402794,  7.53217909,  7.89033024,  8.24848138,  8.60663253,\n",
       "         8.96478367,  9.32293482,  9.68108596, 10.03923711, 10.39738826],\n",
       "       [ 0.01100503,  0.36915618,  0.72730732,  1.08545847,  1.44360961,\n",
       "         1.80176076,  2.15991191,  2.51806305,  2.8762142 ,  3.23436534,\n",
       "         3.59251649,  3.95066763,  4.30881878,  4.66696993,  5.02512107,\n",
       "         5.38327222,  5.74142336,  6.09957451,  6.45772565,  6.8158768 ,\n",
       "         7.17402794,  7.53217909,  7.89033024,  8.24848138,  8.60663253,\n",
       "         8.96478367,  9.32293482,  9.68108596, 10.03923711, 10.39738826],\n",
       "       [ 0.01100503,  0.36915618,  0.72730732,  1.08545847,  1.44360961,\n",
       "         1.80176076,  2.15991191,  2.51806305,  2.8762142 ,  3.23436534,\n",
       "         3.59251649,  3.95066763,  4.30881878,  4.66696993,  5.02512107,\n",
       "         5.38327222,  5.74142336,  6.09957451,  6.45772565,  6.8158768 ,\n",
       "         7.17402794,  7.53217909,  7.89033024,  8.24848138,  8.60663253,\n",
       "         8.96478367,  9.32293482,  9.68108596, 10.03923711, 10.39738826],\n",
       "       [ 0.01100503,  0.36915618,  0.72730732,  1.08545847,  1.44360961,\n",
       "         1.80176076,  2.15991191,  2.51806305,  2.8762142 ,  3.23436534,\n",
       "         3.59251649,  3.95066763,  4.30881878,  4.66696993,  5.02512107,\n",
       "         5.38327222,  5.74142336,  6.09957451,  6.45772565,  6.8158768 ,\n",
       "         7.17402794,  7.53217909,  7.89033024,  8.24848138,  8.60663253,\n",
       "         8.96478367,  9.32293482,  9.68108596, 10.03923711, 10.39738826],\n",
       "       [ 0.01100503,  0.36915618,  0.72730732,  1.08545847,  1.44360961,\n",
       "         1.80176076,  2.15991191,  2.51806305,  2.8762142 ,  3.23436534,\n",
       "         3.59251649,  3.95066763,  4.30881878,  4.66696993,  5.02512107,\n",
       "         5.38327222,  5.74142336,  6.09957451,  6.45772565,  6.8158768 ,\n",
       "         7.17402794,  7.53217909,  7.89033024,  8.24848138,  8.60663253,\n",
       "         8.96478367,  9.32293482,  9.68108596, 10.03923711, 10.39738826],\n",
       "       [ 0.01100503,  0.36915618,  0.72730732,  1.08545847,  1.44360961,\n",
       "         1.80176076,  2.15991191,  2.51806305,  2.8762142 ,  3.23436534,\n",
       "         3.59251649,  3.95066763,  4.30881878,  4.66696993,  5.02512107,\n",
       "         5.38327222,  5.74142336,  6.09957451,  6.45772565,  6.8158768 ,\n",
       "         7.17402794,  7.53217909,  7.89033024,  8.24848138,  8.60663253,\n",
       "         8.96478367,  9.32293482,  9.68108596, 10.03923711, 10.39738826],\n",
       "       [ 0.01100503,  0.36915618,  0.72730732,  1.08545847,  1.44360961,\n",
       "         1.80176076,  2.15991191,  2.51806305,  2.8762142 ,  3.23436534,\n",
       "         3.59251649,  3.95066763,  4.30881878,  4.66696993,  5.02512107,\n",
       "         5.38327222,  5.74142336,  6.09957451,  6.45772565,  6.8158768 ,\n",
       "         7.17402794,  7.53217909,  7.89033024,  8.24848138,  8.60663253,\n",
       "         8.96478367,  9.32293482,  9.68108596, 10.03923711, 10.39738826],\n",
       "       [ 0.01100503,  0.36915618,  0.72730732,  1.08545847,  1.44360961,\n",
       "         1.80176076,  2.15991191,  2.51806305,  2.8762142 ,  3.23436534,\n",
       "         3.59251649,  3.95066763,  4.30881878,  4.66696993,  5.02512107,\n",
       "         5.38327222,  5.74142336,  6.09957451,  6.45772565,  6.8158768 ,\n",
       "         7.17402794,  7.53217909,  7.89033024,  8.24848138,  8.60663253,\n",
       "         8.96478367,  9.32293482,  9.68108596, 10.03923711, 10.39738826],\n",
       "       [ 0.01100503,  0.36915618,  0.72730732,  1.08545847,  1.44360961,\n",
       "         1.80176076,  2.15991191,  2.51806305,  2.8762142 ,  3.23436534,\n",
       "         3.59251649,  3.95066763,  4.30881878,  4.66696993,  5.02512107,\n",
       "         5.38327222,  5.74142336,  6.09957451,  6.45772565,  6.8158768 ,\n",
       "         7.17402794,  7.53217909,  7.89033024,  8.24848138,  8.60663253,\n",
       "         8.96478367,  9.32293482,  9.68108596, 10.03923711, 10.39738826],\n",
       "       [ 0.01100503,  0.36915618,  0.72730732,  1.08545847,  1.44360961,\n",
       "         1.80176076,  2.15991191,  2.51806305,  2.8762142 ,  3.23436534,\n",
       "         3.59251649,  3.95066763,  4.30881878,  4.66696993,  5.02512107,\n",
       "         5.38327222,  5.74142336,  6.09957451,  6.45772565,  6.8158768 ,\n",
       "         7.17402794,  7.53217909,  7.89033024,  8.24848138,  8.60663253,\n",
       "         8.96478367,  9.32293482,  9.68108596, 10.03923711, 10.39738826],\n",
       "       [ 0.01100503,  0.36915618,  0.72730732,  1.08545847,  1.44360961,\n",
       "         1.80176076,  2.15991191,  2.51806305,  2.8762142 ,  3.23436534,\n",
       "         3.59251649,  3.95066763,  4.30881878,  4.66696993,  5.02512107,\n",
       "         5.38327222,  5.74142336,  6.09957451,  6.45772565,  6.8158768 ,\n",
       "         7.17402794,  7.53217909,  7.89033024,  8.24848138,  8.60663253,\n",
       "         8.96478367,  9.32293482,  9.68108596, 10.03923711, 10.39738826],\n",
       "       [ 0.01100503,  0.36915618,  0.72730732,  1.08545847,  1.44360961,\n",
       "         1.80176076,  2.15991191,  2.51806305,  2.8762142 ,  3.23436534,\n",
       "         3.59251649,  3.95066763,  4.30881878,  4.66696993,  5.02512107,\n",
       "         5.38327222,  5.74142336,  6.09957451,  6.45772565,  6.8158768 ,\n",
       "         7.17402794,  7.53217909,  7.89033024,  8.24848138,  8.60663253,\n",
       "         8.96478367,  9.32293482,  9.68108596, 10.03923711, 10.39738826],\n",
       "       [ 0.01100503,  0.36915618,  0.72730732,  1.08545847,  1.44360961,\n",
       "         1.80176076,  2.15991191,  2.51806305,  2.8762142 ,  3.23436534,\n",
       "         3.59251649,  3.95066763,  4.30881878,  4.66696993,  5.02512107,\n",
       "         5.38327222,  5.74142336,  6.09957451,  6.45772565,  6.8158768 ,\n",
       "         7.17402794,  7.53217909,  7.89033024,  8.24848138,  8.60663253,\n",
       "         8.96478367,  9.32293482,  9.68108596, 10.03923711, 10.39738826],\n",
       "       [ 0.01100503,  0.36915618,  0.72730732,  1.08545847,  1.44360961,\n",
       "         1.80176076,  2.15991191,  2.51806305,  2.8762142 ,  3.23436534,\n",
       "         3.59251649,  3.95066763,  4.30881878,  4.66696993,  5.02512107,\n",
       "         5.38327222,  5.74142336,  6.09957451,  6.45772565,  6.8158768 ,\n",
       "         7.17402794,  7.53217909,  7.89033024,  8.24848138,  8.60663253,\n",
       "         8.96478367,  9.32293482,  9.68108596, 10.03923711, 10.39738826],\n",
       "       [ 0.01100503,  0.36915618,  0.72730732,  1.08545847,  1.44360961,\n",
       "         1.80176076,  2.15991191,  2.51806305,  2.8762142 ,  3.23436534,\n",
       "         3.59251649,  3.95066763,  4.30881878,  4.66696993,  5.02512107,\n",
       "         5.38327222,  5.74142336,  6.09957451,  6.45772565,  6.8158768 ,\n",
       "         7.17402794,  7.53217909,  7.89033024,  8.24848138,  8.60663253,\n",
       "         8.96478367,  9.32293482,  9.68108596, 10.03923711, 10.39738826],\n",
       "       [ 0.01100503,  0.36915618,  0.72730732,  1.08545847,  1.44360961,\n",
       "         1.80176076,  2.15991191,  2.51806305,  2.8762142 ,  3.23436534,\n",
       "         3.59251649,  3.95066763,  4.30881878,  4.66696993,  5.02512107,\n",
       "         5.38327222,  5.74142336,  6.09957451,  6.45772565,  6.8158768 ,\n",
       "         7.17402794,  7.53217909,  7.89033024,  8.24848138,  8.60663253,\n",
       "         8.96478367,  9.32293482,  9.68108596, 10.03923711, 10.39738826],\n",
       "       [ 0.01100503,  0.36915618,  0.72730732,  1.08545847,  1.44360961,\n",
       "         1.80176076,  2.15991191,  2.51806305,  2.8762142 ,  3.23436534,\n",
       "         3.59251649,  3.95066763,  4.30881878,  4.66696993,  5.02512107,\n",
       "         5.38327222,  5.74142336,  6.09957451,  6.45772565,  6.8158768 ,\n",
       "         7.17402794,  7.53217909,  7.89033024,  8.24848138,  8.60663253,\n",
       "         8.96478367,  9.32293482,  9.68108596, 10.03923711, 10.39738826],\n",
       "       [ 0.01100503,  0.36915618,  0.72730732,  1.08545847,  1.44360961,\n",
       "         1.80176076,  2.15991191,  2.51806305,  2.8762142 ,  3.23436534,\n",
       "         3.59251649,  3.95066763,  4.30881878,  4.66696993,  5.02512107,\n",
       "         5.38327222,  5.74142336,  6.09957451,  6.45772565,  6.8158768 ,\n",
       "         7.17402794,  7.53217909,  7.89033024,  8.24848138,  8.60663253,\n",
       "         8.96478367,  9.32293482,  9.68108596, 10.03923711, 10.39738826],\n",
       "       [ 0.01100503,  0.36915618,  0.72730732,  1.08545847,  1.44360961,\n",
       "         1.80176076,  2.15991191,  2.51806305,  2.8762142 ,  3.23436534,\n",
       "         3.59251649,  3.95066763,  4.30881878,  4.66696993,  5.02512107,\n",
       "         5.38327222,  5.74142336,  6.09957451,  6.45772565,  6.8158768 ,\n",
       "         7.17402794,  7.53217909,  7.89033024,  8.24848138,  8.60663253,\n",
       "         8.96478367,  9.32293482,  9.68108596, 10.03923711, 10.39738826],\n",
       "       [ 0.01100503,  0.36915618,  0.72730732,  1.08545847,  1.44360961,\n",
       "         1.80176076,  2.15991191,  2.51806305,  2.8762142 ,  3.23436534,\n",
       "         3.59251649,  3.95066763,  4.30881878,  4.66696993,  5.02512107,\n",
       "         5.38327222,  5.74142336,  6.09957451,  6.45772565,  6.8158768 ,\n",
       "         7.17402794,  7.53217909,  7.89033024,  8.24848138,  8.60663253,\n",
       "         8.96478367,  9.32293482,  9.68108596, 10.03923711, 10.39738826],\n",
       "       [ 0.01100503,  0.36915618,  0.72730732,  1.08545847,  1.44360961,\n",
       "         1.80176076,  2.15991191,  2.51806305,  2.8762142 ,  3.23436534,\n",
       "         3.59251649,  3.95066763,  4.30881878,  4.66696993,  5.02512107,\n",
       "         5.38327222,  5.74142336,  6.09957451,  6.45772565,  6.8158768 ,\n",
       "         7.17402794,  7.53217909,  7.89033024,  8.24848138,  8.60663253,\n",
       "         8.96478367,  9.32293482,  9.68108596, 10.03923711, 10.39738826],\n",
       "       [ 0.01100503,  0.36915618,  0.72730732,  1.08545847,  1.44360961,\n",
       "         1.80176076,  2.15991191,  2.51806305,  2.8762142 ,  3.23436534,\n",
       "         3.59251649,  3.95066763,  4.30881878,  4.66696993,  5.02512107,\n",
       "         5.38327222,  5.74142336,  6.09957451,  6.45772565,  6.8158768 ,\n",
       "         7.17402794,  7.53217909,  7.89033024,  8.24848138,  8.60663253,\n",
       "         8.96478367,  9.32293482,  9.68108596, 10.03923711, 10.39738826],\n",
       "       [ 0.01100503,  0.36915618,  0.72730732,  1.08545847,  1.44360961,\n",
       "         1.80176076,  2.15991191,  2.51806305,  2.8762142 ,  3.23436534,\n",
       "         3.59251649,  3.95066763,  4.30881878,  4.66696993,  5.02512107,\n",
       "         5.38327222,  5.74142336,  6.09957451,  6.45772565,  6.8158768 ,\n",
       "         7.17402794,  7.53217909,  7.89033024,  8.24848138,  8.60663253,\n",
       "         8.96478367,  9.32293482,  9.68108596, 10.03923711, 10.39738826],\n",
       "       [ 0.01100503,  0.36915618,  0.72730732,  1.08545847,  1.44360961,\n",
       "         1.80176076,  2.15991191,  2.51806305,  2.8762142 ,  3.23436534,\n",
       "         3.59251649,  3.95066763,  4.30881878,  4.66696993,  5.02512107,\n",
       "         5.38327222,  5.74142336,  6.09957451,  6.45772565,  6.8158768 ,\n",
       "         7.17402794,  7.53217909,  7.89033024,  8.24848138,  8.60663253,\n",
       "         8.96478367,  9.32293482,  9.68108596, 10.03923711, 10.39738826],\n",
       "       [ 0.01100503,  0.36915618,  0.72730732,  1.08545847,  1.44360961,\n",
       "         1.80176076,  2.15991191,  2.51806305,  2.8762142 ,  3.23436534,\n",
       "         3.59251649,  3.95066763,  4.30881878,  4.66696993,  5.02512107,\n",
       "         5.38327222,  5.74142336,  6.09957451,  6.45772565,  6.8158768 ,\n",
       "         7.17402794,  7.53217909,  7.89033024,  8.24848138,  8.60663253,\n",
       "         8.96478367,  9.32293482,  9.68108596, 10.03923711, 10.39738826],\n",
       "       [ 0.01100503,  0.36915618,  0.72730732,  1.08545847,  1.44360961,\n",
       "         1.80176076,  2.15991191,  2.51806305,  2.8762142 ,  3.23436534,\n",
       "         3.59251649,  3.95066763,  4.30881878,  4.66696993,  5.02512107,\n",
       "         5.38327222,  5.74142336,  6.09957451,  6.45772565,  6.8158768 ,\n",
       "         7.17402794,  7.53217909,  7.89033024,  8.24848138,  8.60663253,\n",
       "         8.96478367,  9.32293482,  9.68108596, 10.03923711, 10.39738826],\n",
       "       [ 0.01100503,  0.36915618,  0.72730732,  1.08545847,  1.44360961,\n",
       "         1.80176076,  2.15991191,  2.51806305,  2.8762142 ,  3.23436534,\n",
       "         3.59251649,  3.95066763,  4.30881878,  4.66696993,  5.02512107,\n",
       "         5.38327222,  5.74142336,  6.09957451,  6.45772565,  6.8158768 ,\n",
       "         7.17402794,  7.53217909,  7.89033024,  8.24848138,  8.60663253,\n",
       "         8.96478367,  9.32293482,  9.68108596, 10.03923711, 10.39738826]])"
      ]
     },
     "execution_count": 24,
     "metadata": {},
     "output_type": "execute_result"
    }
   ],
   "source": [
    "XX"
   ]
  },
  {
   "cell_type": "code",
   "execution_count": null,
   "metadata": {},
   "outputs": [],
   "source": []
  }
 ],
 "metadata": {
  "kernelspec": {
   "display_name": "Python 3",
   "language": "python",
   "name": "python3"
  },
  "language_info": {
   "codemirror_mode": {
    "name": "ipython",
    "version": 3
   },
   "file_extension": ".py",
   "mimetype": "text/x-python",
   "name": "python",
   "nbconvert_exporter": "python",
   "pygments_lexer": "ipython3",
   "version": "3.8.0"
  }
 },
 "nbformat": 4,
 "nbformat_minor": 4
}
